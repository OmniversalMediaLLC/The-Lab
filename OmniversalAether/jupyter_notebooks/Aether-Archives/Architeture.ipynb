{
 "cells": [
  {
   "cell_type": "markdown",
   "id": "d3574b22-1da5-4fe8-9141-fa5e337b1ce9",
   "metadata": {},
   "source": [
    "# Archive of Architecture"
   ]
  },
  {
   "cell_type": "markdown",
   "id": "867e81b8-230e-4a5d-a467-3c81d286f1c5",
   "metadata": {},
   "source": [
    "\t•\t📌 Project Overview"
   ]
  },
  {
   "cell_type": "markdown",
   "id": "0a69a8d6-5396-4bd3-86c8-aefc1272c118",
   "metadata": {},
   "source": [
    "# 🌀 Omniversal Aether Deployment Log\n",
    "\n",
    "## 📜 Overview\n",
    "This notebook documents the **setup, troubleshooting, and deployment** process for Omniversal Aether.\n",
    "\n",
    "## 📂 Project Directory Structure\n",
    "```bash\n",
    "aether-directory/\n",
    "├── notebooks/\n",
    "│   ├── deployment-log.ipynb  # This notebook\n",
    "│   ├── README.md\n",
    "├── aether-landing-pages/\n",
    "│   ├── global-assets/\n",
    "│   │   ├── logo.png\n",
    "│   │   ├── background.jpg\n",
    "│   │   ├── style.css\n",
    "│   ├── domains/\n",
    "│   │   ├── omniversal.cloud/\n",
    "│   │   │   ├── index.html\n",
    "│   │   ├── omniversal.news/\n",
    "│   │   │   ├── index.html\n",
    "│   │   ├── (More domains...)\n",
    "│   ├── config/\n",
    "│   │   ├── domains.txt\n",
    "├── README.md"
   ]
  },
  {
   "cell_type": "markdown",
   "id": "927fe30f-b624-417f-818a-9c53c3adec1d",
   "metadata": {},
   "source": [
    "\t•\t📜 Setup & Configuration Logs"
   ]
  },
  {
   "cell_type": "markdown",
   "id": "acf98f07-4669-4daf-9fe6-b5773858c596",
   "metadata": {},
   "source": [
    "## 🌐 Deployment Flow (Updated with Branches)\n",
    "\n",
    "```mermaid\n",
    "graph TD;\n",
    "  A[🟢 GitHub Repo] -->|📤 Push Updates| B[🌍 Cloudflare Pages];\n",
    "  B -->|🚀 Auto-Deploy| C[📄 Domain Landing Pages];\n",
    "  C -->|🔗 SEO & Interlinking| D[💡 OmniversalMedia.net];\n",
    "  C -->|🌍 Cloudflare DNS| E[🔐 Domain Registrars];\n",
    "\n",
    "  subgraph GitHub Repo\n",
    "    M[🌿 Main Branch] -->|📜 Manages Core Code| B\n",
    "    C[⚙️ Config Branch] -->|📂 Holds Configuration Files| B\n",
    "    L[🌎 Cloudflare-Landing-Pages] -->|🎨 Manages Landing Pages| B\n",
    "  end"
   ]
  },
  {
   "cell_type": "markdown",
   "id": "35674d72-d1cb-46e1-900e-63befec2ec57",
   "metadata": {},
   "source": [
    "---\n",
    "\n",
    "### **💡 Features & Fixes in This Version**\n",
    "✔️ **Replaced non-working emoji characters with ones that render properly**  \n",
    "✔️ **Added clearer descriptions for each branch inside the GitHub subgraph**  \n",
    "✔️ **Fixed formatting issues that might break MermaidJS rendering in Jupyter**  \n",
    "✔️ **Confirmed compatibility with Jupyter Markdown rendering**  \n",
    "\n",
    "---\n",
    "\n",
    "### **🚀 Next Steps**\n",
    "✅ **Paste this into a new Markdown cell** in Jupyter Notebook.  \n",
    "✅ **Run the cell to check if it renders properly.**  \n",
    "✅ **If it works, commit & push the updated `deployment-log.ipynb` to GitHub.**  \n",
    "\n",
    "```sh\n",
    "git add notebooks/\n",
    "git commit -m \"Updated Deployment Flow Diagram for Jupyter rendering\"\n",
    "git push origin main"
   ]
  },
  {
   "cell_type": "markdown",
   "id": "6709158e-22c8-4f10-9d6c-c7bc9a9fb4e1",
   "metadata": {},
   "source": [
    "## 🚀 Deployment Flow (With Labels)\n",
    "\n",
    "```mermaid\n",
    "graph TD;\n",
    "  A[GitHub Repo] -->|🔄 Push Updates| B[Cloudflare Pages];\n",
    "  B -->|🚀 Auto-Deploy| C[Domain Landing Pages];\n",
    "  C -->|📈 SEO & Interlinking| D[OmniversalMedia.net];\n",
    "  C -->|🌍 Cloudflare DNS| E[Domain Registrars];\n",
    "\n",
    "  subgraph GitHub Repo\n",
    "    M[🌿 Main Branch] -->|📜 Manages Core Code| B\n",
    "    C[⚙️ Config Branch] -->|📂 Holds Configuration Files| B\n",
    "    L[🌎 Cloudflare-Landing-Pages] -->|🎨 Manages Landing Pages| B\n",
    "  end"
   ]
  },
  {
   "cell_type": "markdown",
   "id": "3f65e2a9-44d1-496a-b1dc-6ba345591ce2",
   "metadata": {},
   "source": [
    "\t•\t🚀 Deployment Commands & Errors"
   ]
  },
  {
   "cell_type": "markdown",
   "id": "8144ad75-1eec-41d3-9904-bea5c2dc9371",
   "metadata": {},
   "source": [
    "## ✅ Deployment To-Do List\n",
    "\n",
    "- [x] Create GitHub Repo & Directory Structure  \n",
    "- [x] Set up Jupyter Notebook for Documentation  \n",
    "- [ ] Fix Footer Links in `index.html`  \n",
    "- [ ] Complete Cloudflare Pages Deployment  \n",
    "- [ ] Verify Domain SEO & Indexing  "
   ]
  },
  {
   "cell_type": "markdown",
   "id": "c69f1fbb-5307-413a-888f-bca7fecec8f6",
   "metadata": {},
   "source": [
    "\t•\t🛠️ Troubleshooting Fixes"
   ]
  },
  {
   "cell_type": "markdown",
   "id": "b2fc0a36-057f-493e-bea9-6edb49b98b58",
   "metadata": {},
   "source": [
    "## 🛠 Essential Commands\n",
    "\n",
    "```bash\n",
    "# Clone the repo\n",
    "git clone git@github.com:HawkEyeTheRapper/aether-directory.git\n",
    "\n",
    "# Create a new Jupyter notebook\n",
    "jupyter lab\n",
    "\n",
    "# List all domain folders\n",
    "ls aether-landing-pages/domains/\n",
    "\n",
    "# Commit & push changes\n",
    "git add .\n",
    "git commit -m \"Updated index.html and footer interlinking\"\n",
    "git push origin main"
   ]
  }
 ],
 "metadata": {
  "kernelspec": {
   "display_name": "Python 3 (ipykernel)",
   "language": "python",
   "name": "python3"
  },
  "language_info": {
   "codemirror_mode": {
    "name": "ipython",
    "version": 3
   },
   "file_extension": ".py",
   "mimetype": "text/x-python",
   "name": "python",
   "nbconvert_exporter": "python",
   "pygments_lexer": "ipython3",
   "version": "3.13.2"
  }
 },
 "nbformat": 4,
 "nbformat_minor": 5
}
